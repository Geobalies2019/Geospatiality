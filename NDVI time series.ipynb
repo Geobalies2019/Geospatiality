{
  "nbformat": 4,
  "nbformat_minor": 0,
  "metadata": {
    "colab": {
      "provenance": [],
      "authorship_tag": "ABX9TyP3MWgF3vskUame90bX1S0e",
      "include_colab_link": true
    },
    "kernelspec": {
      "name": "python3",
      "display_name": "Python 3"
    },
    "language_info": {
      "name": "python"
    },
    "widgets": {
      "application/vnd.jupyter.widget-state+json": {
        "f3601cad1ba74b1796fc2e80421d7b33": {
          "model_module": "jupyter-leaflet",
          "model_name": "LeafletMapModel",
          "model_module_version": "^0.17",
          "state": {
            "_dom_classes": [],
            "_model_module": "jupyter-leaflet",
            "_model_module_version": "^0.17",
            "_model_name": "LeafletMapModel",
            "_view_count": null,
            "_view_module": "jupyter-leaflet",
            "_view_module_version": "^0.17",
            "_view_name": "LeafletMapView",
            "bottom": 98073,
            "bounce_at_zoom_limits": true,
            "box_zoom": true,
            "center": [
              41.527614468447446,
              -79.38587981711616
            ],
            "close_popup_on_click": true,
            "controls": [
              "IPY_MODEL_ff49aeaf257a4131b89e9db9e049ccd2",
              "IPY_MODEL_843298d9c825437f9bcf7c6d46bf4748",
              "IPY_MODEL_4d57dd14893d4a549d9c472894842872",
              "IPY_MODEL_9aea7980ae5d48ddbb6c00c48f85a54c",
              "IPY_MODEL_4b3e0c1d47b24baba359191a58cb4bb5",
              "IPY_MODEL_ecc1e2ae1055487494c62b02193d382b",
              "IPY_MODEL_2e2ce0288b3744a787248e8c554354fd",
              "IPY_MODEL_0b880d5a50b4432ca7e39cbce3be2b53"
            ],
            "crs": {
              "name": "EPSG3857",
              "custom": false
            },
            "default_style": "IPY_MODEL_c6ba93a2b3cf4b61a2f01f6ac5c878c2",
            "double_click_zoom": true,
            "dragging": true,
            "dragging_style": "IPY_MODEL_34cbe3efe89548c2ad715eb09fad2e7f",
            "east": -78.15399169921876,
            "fullscreen": false,
            "inertia": true,
            "inertia_deceleration": 3000,
            "inertia_max_speed": 1500,
            "interpolation": "bilinear",
            "keyboard": true,
            "keyboard_pan_offset": 80,
            "keyboard_zoom_offset": 1,
            "layers": [
              "IPY_MODEL_a6aa7a9e7e6c43598de83271d93c3237",
              "IPY_MODEL_d3a61d356c0e47d7af84a87014c37fed",
              "IPY_MODEL_686ccadac2f045b0bba724ff33e5b62b"
            ],
            "layout": "IPY_MODEL_07ae18b4feee4a49af05b9870ffd1215",
            "left": 72368,
            "max_zoom": 24,
            "min_zoom": null,
            "modisdate": "2023-09-02",
            "north": 41.83580468561975,
            "options": [
              "bounce_at_zoom_limits",
              "box_zoom",
              "center",
              "close_popup_on_click",
              "double_click_zoom",
              "dragging",
              "fullscreen",
              "inertia",
              "inertia_deceleration",
              "inertia_max_speed",
              "interpolation",
              "keyboard",
              "keyboard_pan_offset",
              "keyboard_zoom_offset",
              "max_zoom",
              "min_zoom",
              "prefer_canvas",
              "scroll_wheel_zoom",
              "tap",
              "tap_tolerance",
              "touch_zoom",
              "world_copy_jump",
              "zoom",
              "zoom_animation_threshold",
              "zoom_delta",
              "zoom_snap"
            ],
            "panes": {},
            "prefer_canvas": false,
            "right": 74162,
            "scroll_wheel_zoom": true,
            "south": 41.21895280774118,
            "style": "IPY_MODEL_13519209af134b40af229007ba723132",
            "tap": true,
            "tap_tolerance": 15,
            "top": 97473,
            "touch_zoom": true,
            "west": -80.61767578125001,
            "window_url": "https://mezi391vljm-496ff2e9c6d22116-0-colab.googleusercontent.com/outputframe.html?vrz=colab_20230831-060138_RC00_561609135",
            "world_copy_jump": false,
            "zoom": 10,
            "zoom_animation_threshold": 4,
            "zoom_delta": 1,
            "zoom_snap": 1
          }
        },
        "ff49aeaf257a4131b89e9db9e049ccd2": {
          "model_module": "jupyter-leaflet",
          "model_name": "LeafletWidgetControlModel",
          "model_module_version": "^0.17",
          "state": {
            "_model_module": "jupyter-leaflet",
            "_model_module_version": "^0.17",
            "_model_name": "LeafletWidgetControlModel",
            "_view_count": null,
            "_view_module": "jupyter-leaflet",
            "_view_module_version": "^0.17",
            "_view_name": "LeafletWidgetControlView",
            "max_height": null,
            "max_width": null,
            "min_height": null,
            "min_width": null,
            "options": [
              "position",
              "transparent_bg"
            ],
            "position": "topleft",
            "transparent_bg": false,
            "widget": "IPY_MODEL_2fba90193f44499b88e3de4aba074b52"
          }
        },
        "843298d9c825437f9bcf7c6d46bf4748": {
          "model_module": "jupyter-leaflet",
          "model_name": "LeafletZoomControlModel",
          "model_module_version": "^0.17",
          "state": {
            "_model_module": "jupyter-leaflet",
            "_model_module_version": "^0.17",
            "_model_name": "LeafletZoomControlModel",
            "_view_count": null,
            "_view_module": "jupyter-leaflet",
            "_view_module_version": "^0.17",
            "_view_name": "LeafletZoomControlView",
            "options": [
              "position",
              "zoom_in_text",
              "zoom_in_title",
              "zoom_out_text",
              "zoom_out_title"
            ],
            "position": "topleft",
            "zoom_in_text": "+",
            "zoom_in_title": "Zoom in",
            "zoom_out_text": "-",
            "zoom_out_title": "Zoom out"
          }
        },
        "4d57dd14893d4a549d9c472894842872": {
          "model_module": "jupyter-leaflet",
          "model_name": "LeafletFullScreenControlModel",
          "model_module_version": "^0.17",
          "state": {
            "_model_module": "jupyter-leaflet",
            "_model_module_version": "^0.17",
            "_model_name": "LeafletFullScreenControlModel",
            "_view_count": null,
            "_view_module": "jupyter-leaflet",
            "_view_module_version": "^0.17",
            "_view_name": "LeafletFullScreenControlView",
            "options": [
              "position"
            ],
            "position": "topleft"
          }
        },
        "9aea7980ae5d48ddbb6c00c48f85a54c": {
          "model_module": "jupyter-leaflet",
          "model_name": "LeafletDrawControlModel",
          "model_module_version": "^0.17",
          "state": {
            "_model_module": "jupyter-leaflet",
            "_model_module_version": "^0.17",
            "_model_name": "LeafletDrawControlModel",
            "_view_count": null,
            "_view_module": "jupyter-leaflet",
            "_view_module_version": "^0.17",
            "_view_name": "LeafletDrawControlView",
            "circle": {},
            "circlemarker": {},
            "data": [],
            "edit": true,
            "marker": {
              "shapeOptions": {
                "color": "#3388ff"
              }
            },
            "options": [
              "position"
            ],
            "polygon": {
              "shapeOptions": {}
            },
            "polyline": {
              "shapeOptions": {}
            },
            "position": "topleft",
            "rectangle": {
              "shapeOptions": {
                "color": "#3388ff"
              }
            },
            "remove": true
          }
        },
        "4b3e0c1d47b24baba359191a58cb4bb5": {
          "model_module": "jupyter-leaflet",
          "model_name": "LeafletScaleControlModel",
          "model_module_version": "^0.17",
          "state": {
            "_model_module": "jupyter-leaflet",
            "_model_module_version": "^0.17",
            "_model_name": "LeafletScaleControlModel",
            "_view_count": null,
            "_view_module": "jupyter-leaflet",
            "_view_module_version": "^0.17",
            "_view_name": "LeafletScaleControlView",
            "imperial": true,
            "max_width": 100,
            "metric": true,
            "options": [
              "imperial",
              "max_width",
              "metric",
              "position",
              "update_when_idle"
            ],
            "position": "bottomleft",
            "update_when_idle": false
          }
        },
        "ecc1e2ae1055487494c62b02193d382b": {
          "model_module": "jupyter-leaflet",
          "model_name": "LeafletMeasureControlModel",
          "model_module_version": "^0.17",
          "state": {
            "_custom_units": {},
            "_model_module": "jupyter-leaflet",
            "_model_module_version": "^0.17",
            "_model_name": "LeafletMeasureControlModel",
            "_view_count": null,
            "_view_module": "jupyter-leaflet",
            "_view_module_version": "^0.17",
            "_view_name": "LeafletMeasureControlView",
            "active_color": "orange",
            "capture_z_index": 10000,
            "completed_color": "#C8F2BE",
            "options": [
              "active_color",
              "capture_z_index",
              "completed_color",
              "popup_options",
              "position",
              "primary_area_unit",
              "primary_length_unit",
              "secondary_area_unit",
              "secondary_length_unit"
            ],
            "popup_options": {
              "className": "leaflet-measure-resultpopup",
              "autoPanPadding": [
                10,
                10
              ]
            },
            "position": "bottomleft",
            "primary_area_unit": "acres",
            "primary_length_unit": "kilometers",
            "secondary_area_unit": null,
            "secondary_length_unit": null
          }
        },
        "2e2ce0288b3744a787248e8c554354fd": {
          "model_module": "jupyter-leaflet",
          "model_name": "LeafletWidgetControlModel",
          "model_module_version": "^0.17",
          "state": {
            "_model_module": "jupyter-leaflet",
            "_model_module_version": "^0.17",
            "_model_name": "LeafletWidgetControlModel",
            "_view_count": null,
            "_view_module": "jupyter-leaflet",
            "_view_module_version": "^0.17",
            "_view_name": "LeafletWidgetControlView",
            "max_height": null,
            "max_width": null,
            "min_height": null,
            "min_width": null,
            "options": [
              "position",
              "transparent_bg"
            ],
            "position": "topright",
            "transparent_bg": false,
            "widget": "IPY_MODEL_b9e65435c1a44b4eb3c245db9c4aa32f"
          }
        },
        "0b880d5a50b4432ca7e39cbce3be2b53": {
          "model_module": "jupyter-leaflet",
          "model_name": "LeafletAttributionControlModel",
          "model_module_version": "^0.17",
          "state": {
            "_model_module": "jupyter-leaflet",
            "_model_module_version": "^0.17",
            "_model_name": "LeafletAttributionControlModel",
            "_view_count": null,
            "_view_module": "jupyter-leaflet",
            "_view_module_version": "^0.17",
            "_view_name": "LeafletAttributionControlView",
            "options": [
              "position",
              "prefix"
            ],
            "position": "bottomright",
            "prefix": "ipyleaflet"
          }
        },
        "c6ba93a2b3cf4b61a2f01f6ac5c878c2": {
          "model_module": "jupyter-leaflet",
          "model_name": "LeafletMapStyleModel",
          "model_module_version": "^0.17",
          "state": {
            "_model_module": "jupyter-leaflet",
            "_model_module_version": "^0.17",
            "_model_name": "LeafletMapStyleModel",
            "_view_count": null,
            "_view_module": "@jupyter-widgets/base",
            "_view_module_version": "1.2.0",
            "_view_name": "StyleView",
            "cursor": "grab"
          }
        },
        "34cbe3efe89548c2ad715eb09fad2e7f": {
          "model_module": "jupyter-leaflet",
          "model_name": "LeafletMapStyleModel",
          "model_module_version": "^0.17",
          "state": {
            "_model_module": "jupyter-leaflet",
            "_model_module_version": "^0.17",
            "_model_name": "LeafletMapStyleModel",
            "_view_count": null,
            "_view_module": "@jupyter-widgets/base",
            "_view_module_version": "1.2.0",
            "_view_name": "StyleView",
            "cursor": "move"
          }
        },
        "a6aa7a9e7e6c43598de83271d93c3237": {
          "model_module": "jupyter-leaflet",
          "model_name": "LeafletTileLayerModel",
          "model_module_version": "^0.17",
          "state": {
            "_model_module": "jupyter-leaflet",
            "_model_module_version": "^0.17",
            "_model_name": "LeafletTileLayerModel",
            "_view_count": null,
            "_view_module": "jupyter-leaflet",
            "_view_module_version": "^0.17",
            "_view_name": "LeafletTileLayerView",
            "attribution": "&copy; <a href=\"https://www.openstreetmap.org/copyright\">OpenStreetMap</a> contributors",
            "base": true,
            "bottom": true,
            "bounds": null,
            "detect_retina": false,
            "loading": false,
            "max_native_zoom": null,
            "max_zoom": 19,
            "min_native_zoom": null,
            "min_zoom": 1,
            "name": "OpenStreetMap.Mapnik",
            "no_wrap": false,
            "opacity": 1,
            "options": [
              "attribution",
              "bounds",
              "detect_retina",
              "max_native_zoom",
              "max_zoom",
              "min_native_zoom",
              "min_zoom",
              "no_wrap",
              "tile_size",
              "tms",
              "zoom_offset"
            ],
            "pane": "",
            "popup": null,
            "popup_max_height": null,
            "popup_max_width": 300,
            "popup_min_width": 50,
            "show_loading": false,
            "subitems": [],
            "tile_size": 256,
            "tms": false,
            "url": "https://tile.openstreetmap.org/{z}/{x}/{y}.png",
            "visible": true,
            "zoom_offset": 0
          }
        },
        "d3a61d356c0e47d7af84a87014c37fed": {
          "model_module": "jupyter-leaflet",
          "model_name": "LeafletTileLayerModel",
          "model_module_version": "^0.17",
          "state": {
            "_model_module": "jupyter-leaflet",
            "_model_module_version": "^0.17",
            "_model_name": "LeafletTileLayerModel",
            "_view_count": null,
            "_view_module": "jupyter-leaflet",
            "_view_module_version": "^0.17",
            "_view_name": "LeafletTileLayerView",
            "attribution": "Google",
            "base": false,
            "bottom": true,
            "bounds": null,
            "detect_retina": false,
            "loading": false,
            "max_native_zoom": null,
            "max_zoom": 24,
            "min_native_zoom": null,
            "min_zoom": 0,
            "name": "Google Maps",
            "no_wrap": false,
            "opacity": 1,
            "options": [
              "attribution",
              "bounds",
              "detect_retina",
              "max_native_zoom",
              "max_zoom",
              "min_native_zoom",
              "min_zoom",
              "no_wrap",
              "tile_size",
              "tms",
              "zoom_offset"
            ],
            "pane": "",
            "popup": null,
            "popup_max_height": null,
            "popup_max_width": 300,
            "popup_min_width": 50,
            "show_loading": false,
            "subitems": [],
            "tile_size": 256,
            "tms": false,
            "url": "https://mt1.google.com/vt/lyrs=m&x={x}&y={y}&z={z}",
            "visible": true,
            "zoom_offset": 0
          }
        },
        "686ccadac2f045b0bba724ff33e5b62b": {
          "model_module": "jupyter-leaflet",
          "model_name": "LeafletTileLayerModel",
          "model_module_version": "^0.17",
          "state": {
            "_model_module": "jupyter-leaflet",
            "_model_module_version": "^0.17",
            "_model_name": "LeafletTileLayerModel",
            "_view_count": null,
            "_view_module": "jupyter-leaflet",
            "_view_module_version": "^0.17",
            "_view_name": "LeafletTileLayerView",
            "attribution": "Google Earth Engine",
            "base": false,
            "bottom": true,
            "bounds": null,
            "detect_retina": false,
            "loading": false,
            "max_native_zoom": null,
            "max_zoom": 24,
            "min_native_zoom": null,
            "min_zoom": 0,
            "name": "NDVI",
            "no_wrap": false,
            "opacity": 1,
            "options": [
              "attribution",
              "bounds",
              "detect_retina",
              "max_native_zoom",
              "max_zoom",
              "min_native_zoom",
              "min_zoom",
              "no_wrap",
              "tile_size",
              "tms",
              "zoom_offset"
            ],
            "pane": "",
            "popup": null,
            "popup_max_height": null,
            "popup_max_width": 300,
            "popup_min_width": 50,
            "show_loading": false,
            "subitems": [],
            "tile_size": 256,
            "tms": false,
            "url": "https://earthengine.googleapis.com/v1/projects/earthengine-legacy/maps/fc10d07e272df26f32e992e663532055-1bf99e7301b01e5e904219f59c8203ea/tiles/{z}/{x}/{y}",
            "visible": true,
            "zoom_offset": 0
          }
        },
        "07ae18b4feee4a49af05b9870ffd1215": {
          "model_module": "@jupyter-widgets/base",
          "model_name": "LayoutModel",
          "model_module_version": "1.2.0",
          "state": {
            "_model_module": "@jupyter-widgets/base",
            "_model_module_version": "1.2.0",
            "_model_name": "LayoutModel",
            "_view_count": null,
            "_view_module": "@jupyter-widgets/base",
            "_view_module_version": "1.2.0",
            "_view_name": "LayoutView",
            "align_content": null,
            "align_items": null,
            "align_self": null,
            "border": null,
            "bottom": null,
            "display": null,
            "flex": null,
            "flex_flow": null,
            "grid_area": null,
            "grid_auto_columns": null,
            "grid_auto_flow": null,
            "grid_auto_rows": null,
            "grid_column": null,
            "grid_gap": null,
            "grid_row": null,
            "grid_template_areas": null,
            "grid_template_columns": null,
            "grid_template_rows": null,
            "height": "600px",
            "justify_content": null,
            "justify_items": null,
            "left": null,
            "margin": null,
            "max_height": null,
            "max_width": null,
            "min_height": null,
            "min_width": null,
            "object_fit": null,
            "object_position": null,
            "order": null,
            "overflow": null,
            "overflow_x": null,
            "overflow_y": null,
            "padding": null,
            "right": null,
            "top": null,
            "visibility": null,
            "width": null
          }
        },
        "13519209af134b40af229007ba723132": {
          "model_module": "jupyter-leaflet",
          "model_name": "LeafletMapStyleModel",
          "model_module_version": "^0.17",
          "state": {
            "_model_module": "jupyter-leaflet",
            "_model_module_version": "^0.17",
            "_model_name": "LeafletMapStyleModel",
            "_view_count": null,
            "_view_module": "@jupyter-widgets/base",
            "_view_module_version": "1.2.0",
            "_view_name": "StyleView",
            "cursor": "grab"
          }
        },
        "2fba90193f44499b88e3de4aba074b52": {
          "model_module": "@jupyter-widgets/controls",
          "model_name": "HBoxModel",
          "model_module_version": "1.5.0",
          "state": {
            "_dom_classes": [],
            "_model_module": "@jupyter-widgets/controls",
            "_model_module_version": "1.5.0",
            "_model_name": "HBoxModel",
            "_view_count": null,
            "_view_module": "@jupyter-widgets/controls",
            "_view_module_version": "1.5.0",
            "_view_name": "HBoxView",
            "box_style": "",
            "children": [
              "IPY_MODEL_4ec35045bcaf4ec7ae84dac7d6d32b00"
            ],
            "layout": "IPY_MODEL_6a74c70cc4fb4cf98197cc6c76b59dc0"
          }
        },
        "b9e65435c1a44b4eb3c245db9c4aa32f": {
          "model_module": "@jupyter-widgets/controls",
          "model_name": "VBoxModel",
          "model_module_version": "1.5.0",
          "state": {
            "_dom_classes": [],
            "_model_module": "@jupyter-widgets/controls",
            "_model_module_version": "1.5.0",
            "_model_name": "VBoxModel",
            "_view_count": null,
            "_view_module": "@jupyter-widgets/controls",
            "_view_module_version": "1.5.0",
            "_view_name": "VBoxView",
            "box_style": "",
            "children": [
              "IPY_MODEL_f8fafe8d47d74f42a88f79e9ae12a302"
            ],
            "layout": "IPY_MODEL_49c47ceb53e44312a326a31d6e91e8d0"
          }
        },
        "4ec35045bcaf4ec7ae84dac7d6d32b00": {
          "model_module": "@jupyter-widgets/controls",
          "model_name": "ToggleButtonModel",
          "model_module_version": "1.5.0",
          "state": {
            "_dom_classes": [],
            "_model_module": "@jupyter-widgets/controls",
            "_model_module_version": "1.5.0",
            "_model_name": "ToggleButtonModel",
            "_view_count": null,
            "_view_module": "@jupyter-widgets/controls",
            "_view_module_version": "1.5.0",
            "_view_name": "ToggleButtonView",
            "button_style": "",
            "description": "",
            "description_tooltip": null,
            "disabled": false,
            "icon": "globe",
            "layout": "IPY_MODEL_899166db9a6345fe8d2a4fc84937575e",
            "style": "IPY_MODEL_99eb2c5208b84c5a8c293d050ec26063",
            "tooltip": "Search location/data",
            "value": false
          }
        },
        "6a74c70cc4fb4cf98197cc6c76b59dc0": {
          "model_module": "@jupyter-widgets/base",
          "model_name": "LayoutModel",
          "model_module_version": "1.2.0",
          "state": {
            "_model_module": "@jupyter-widgets/base",
            "_model_module_version": "1.2.0",
            "_model_name": "LayoutModel",
            "_view_count": null,
            "_view_module": "@jupyter-widgets/base",
            "_view_module_version": "1.2.0",
            "_view_name": "LayoutView",
            "align_content": null,
            "align_items": null,
            "align_self": null,
            "border": null,
            "bottom": null,
            "display": null,
            "flex": null,
            "flex_flow": null,
            "grid_area": null,
            "grid_auto_columns": null,
            "grid_auto_flow": null,
            "grid_auto_rows": null,
            "grid_column": null,
            "grid_gap": null,
            "grid_row": null,
            "grid_template_areas": null,
            "grid_template_columns": null,
            "grid_template_rows": null,
            "height": null,
            "justify_content": null,
            "justify_items": null,
            "left": null,
            "margin": null,
            "max_height": null,
            "max_width": null,
            "min_height": null,
            "min_width": null,
            "object_fit": null,
            "object_position": null,
            "order": null,
            "overflow": null,
            "overflow_x": null,
            "overflow_y": null,
            "padding": null,
            "right": null,
            "top": null,
            "visibility": null,
            "width": null
          }
        },
        "f8fafe8d47d74f42a88f79e9ae12a302": {
          "model_module": "@jupyter-widgets/controls",
          "model_name": "ToggleButtonModel",
          "model_module_version": "1.5.0",
          "state": {
            "_dom_classes": [],
            "_model_module": "@jupyter-widgets/controls",
            "_model_module_version": "1.5.0",
            "_model_name": "ToggleButtonModel",
            "_view_count": null,
            "_view_module": "@jupyter-widgets/controls",
            "_view_module_version": "1.5.0",
            "_view_name": "ToggleButtonView",
            "button_style": "",
            "description": "",
            "description_tooltip": null,
            "disabled": false,
            "icon": "wrench",
            "layout": "IPY_MODEL_cf22123d7791490aafd0071775ca8bff",
            "style": "IPY_MODEL_331b5cdf02ec401092b5887fd2bce3ac",
            "tooltip": "Toolbar",
            "value": false
          }
        },
        "49c47ceb53e44312a326a31d6e91e8d0": {
          "model_module": "@jupyter-widgets/base",
          "model_name": "LayoutModel",
          "model_module_version": "1.2.0",
          "state": {
            "_model_module": "@jupyter-widgets/base",
            "_model_module_version": "1.2.0",
            "_model_name": "LayoutModel",
            "_view_count": null,
            "_view_module": "@jupyter-widgets/base",
            "_view_module_version": "1.2.0",
            "_view_name": "LayoutView",
            "align_content": null,
            "align_items": null,
            "align_self": null,
            "border": null,
            "bottom": null,
            "display": null,
            "flex": null,
            "flex_flow": null,
            "grid_area": null,
            "grid_auto_columns": null,
            "grid_auto_flow": null,
            "grid_auto_rows": null,
            "grid_column": null,
            "grid_gap": null,
            "grid_row": null,
            "grid_template_areas": null,
            "grid_template_columns": null,
            "grid_template_rows": null,
            "height": null,
            "justify_content": null,
            "justify_items": null,
            "left": null,
            "margin": null,
            "max_height": null,
            "max_width": null,
            "min_height": null,
            "min_width": null,
            "object_fit": null,
            "object_position": null,
            "order": null,
            "overflow": null,
            "overflow_x": null,
            "overflow_y": null,
            "padding": null,
            "right": null,
            "top": null,
            "visibility": null,
            "width": null
          }
        },
        "899166db9a6345fe8d2a4fc84937575e": {
          "model_module": "@jupyter-widgets/base",
          "model_name": "LayoutModel",
          "model_module_version": "1.2.0",
          "state": {
            "_model_module": "@jupyter-widgets/base",
            "_model_module_version": "1.2.0",
            "_model_name": "LayoutModel",
            "_view_count": null,
            "_view_module": "@jupyter-widgets/base",
            "_view_module_version": "1.2.0",
            "_view_name": "LayoutView",
            "align_content": null,
            "align_items": null,
            "align_self": null,
            "border": null,
            "bottom": null,
            "display": null,
            "flex": null,
            "flex_flow": null,
            "grid_area": null,
            "grid_auto_columns": null,
            "grid_auto_flow": null,
            "grid_auto_rows": null,
            "grid_column": null,
            "grid_gap": null,
            "grid_row": null,
            "grid_template_areas": null,
            "grid_template_columns": null,
            "grid_template_rows": null,
            "height": "28px",
            "justify_content": null,
            "justify_items": null,
            "left": null,
            "margin": null,
            "max_height": null,
            "max_width": null,
            "min_height": null,
            "min_width": null,
            "object_fit": null,
            "object_position": null,
            "order": null,
            "overflow": null,
            "overflow_x": null,
            "overflow_y": null,
            "padding": "0px 0px 0px 4px",
            "right": null,
            "top": null,
            "visibility": null,
            "width": "28px"
          }
        },
        "99eb2c5208b84c5a8c293d050ec26063": {
          "model_module": "@jupyter-widgets/controls",
          "model_name": "DescriptionStyleModel",
          "model_module_version": "1.5.0",
          "state": {
            "_model_module": "@jupyter-widgets/controls",
            "_model_module_version": "1.5.0",
            "_model_name": "DescriptionStyleModel",
            "_view_count": null,
            "_view_module": "@jupyter-widgets/base",
            "_view_module_version": "1.2.0",
            "_view_name": "StyleView",
            "description_width": ""
          }
        },
        "cf22123d7791490aafd0071775ca8bff": {
          "model_module": "@jupyter-widgets/base",
          "model_name": "LayoutModel",
          "model_module_version": "1.2.0",
          "state": {
            "_model_module": "@jupyter-widgets/base",
            "_model_module_version": "1.2.0",
            "_model_name": "LayoutModel",
            "_view_count": null,
            "_view_module": "@jupyter-widgets/base",
            "_view_module_version": "1.2.0",
            "_view_name": "LayoutView",
            "align_content": null,
            "align_items": null,
            "align_self": null,
            "border": null,
            "bottom": null,
            "display": null,
            "flex": null,
            "flex_flow": null,
            "grid_area": null,
            "grid_auto_columns": null,
            "grid_auto_flow": null,
            "grid_auto_rows": null,
            "grid_column": null,
            "grid_gap": null,
            "grid_row": null,
            "grid_template_areas": null,
            "grid_template_columns": null,
            "grid_template_rows": null,
            "height": "28px",
            "justify_content": null,
            "justify_items": null,
            "left": null,
            "margin": null,
            "max_height": null,
            "max_width": null,
            "min_height": null,
            "min_width": null,
            "object_fit": null,
            "object_position": null,
            "order": null,
            "overflow": null,
            "overflow_x": null,
            "overflow_y": null,
            "padding": "0px 0px 0px 4px",
            "right": null,
            "top": null,
            "visibility": null,
            "width": "28px"
          }
        },
        "331b5cdf02ec401092b5887fd2bce3ac": {
          "model_module": "@jupyter-widgets/controls",
          "model_name": "DescriptionStyleModel",
          "model_module_version": "1.5.0",
          "state": {
            "_model_module": "@jupyter-widgets/controls",
            "_model_module_version": "1.5.0",
            "_model_name": "DescriptionStyleModel",
            "_view_count": null,
            "_view_module": "@jupyter-widgets/base",
            "_view_module_version": "1.2.0",
            "_view_name": "StyleView",
            "description_width": ""
          }
        }
      }
    }
  },
  "cells": [
    {
      "cell_type": "markdown",
      "metadata": {
        "id": "view-in-github",
        "colab_type": "text"
      },
      "source": [
        "<a href=\"https://colab.research.google.com/github/Geobalies2019/Geospatiality/blob/main/NDVI%20time%20series.ipynb\" target=\"_parent\"><img src=\"https://colab.research.google.com/assets/colab-badge.svg\" alt=\"Open In Colab\"/></a>"
      ]
    },
    {
      "cell_type": "markdown",
      "source": [
        "**NDVI time series**"
      ],
      "metadata": {
        "id": "2KaHi-Ch5sHb"
      }
    },
    {
      "cell_type": "code",
      "execution_count": 17,
      "metadata": {
        "id": "xEVnWDUwdIb9"
      },
      "outputs": [],
      "source": [
        "import ee\n",
        "from datetime import datetime\n",
        "import folium\n",
        "import pandas as pd\n",
        "import geemap"
      ]
    },
    {
      "cell_type": "code",
      "source": [
        "# Initialize Earth Engine\n",
        "\n",
        "#ee.Authenticate()\n",
        "#ee.Initialize()\n",
        "\n"
      ],
      "metadata": {
        "id": "mcAzTWgxdixE"
      },
      "execution_count": 49,
      "outputs": []
    },
    {
      "cell_type": "markdown",
      "source": [
        "**Create a collection of clean Sentinel-2 images**"
      ],
      "metadata": {
        "id": "2nA06zB7nJ_O"
      }
    },
    {
      "cell_type": "code",
      "source": [
        "# Create a polygon representing your plot\n",
        "geometry = ee.Geometry.Polygon(\n",
        "    [[[-79.39000286081905, 41.52846690118791],\n",
        "      [-79.38354410151119, 41.52544684004797],\n",
        "      [-79.3822137258398, 41.52660347586408],\n",
        "      [-79.3854538343298, 41.52890062179616],\n",
        "      [-79.38890851954098, 41.529318275930045],\n",
        "      [-79.39000286081905, 41.52846690118791]]])\n",
        "\n",
        "# Apply a negative buffer to the plot geometry\n",
        "geometry_buff = geometry.buffer(-20)\n",
        "\n",
        "# Load the Sentinel-2 image collection\n",
        "S2 = (ee.ImageCollection('COPERNICUS/S2_SR')\n",
        "      .filterMetadata('CLOUDY_PIXEL_PERCENTAGE', 'less_than', 20)\n",
        "      .filterDate('2023-01-01', '2023-09-01')\n",
        "      .filterBounds(geometry_buff))\n",
        "\n",
        "# Function to filter for vegetation and soil pixels\n",
        "def keepFieldPixel(image):\n",
        "    scl = image.select('SCL')\n",
        "    veg = scl.eq(4)  # 4 = Vegetation\n",
        "    soil = scl.eq(5)  # 5 = Bare soils\n",
        "    mask = (veg.neq(1)).Or(soil.neq(1))\n",
        "    return image.updateMask(mask)\n",
        "\n",
        "# Apply the custom filter to the Sentinel-2 collection\n",
        "S2_filtered = S2.map(keepFieldPixel)\n",
        "\n",
        "# Function to mask clouds in Sentinel-2 imagery\n",
        "def maskS2clouds(image):\n",
        "    qa = image.select('QA60')\n",
        "    cloudBitMask = 1 << 10\n",
        "    cirrusBitMask = 1 << 11\n",
        "    mask = qa.bitwiseAnd(cloudBitMask).eq(0).And(qa.bitwiseAnd(cirrusBitMask).eq(0))\n",
        "    return image.updateMask(mask)\n",
        "\n",
        "# Apply the cloud masking function to the filtered collection\n",
        "S2_filtered = S2_filtered.map(maskS2clouds)\n",
        "\n",
        "# Function to compute NDVI and add it as a new band\n",
        "def addNDVI(image):\n",
        "    return image.addBands(image.normalizedDifference(['B8', 'B4']))\n",
        "\n",
        "# Add the NDVI band to the image collection\n",
        "S2_with_ndvi = S2_filtered.map(addNDVI)\n",
        "\n",
        "# Create a list of NDVI images\n",
        "ndvi_images = S2_with_ndvi.toList(S2_with_ndvi.size())\n",
        "\n",
        "# Create lists to store dates and NDVI values\n",
        "dates = []\n",
        "ndvi_values = []\n",
        "\n",
        "# Iterate through the image collection\n",
        "for i in range(0, S2_with_ndvi.size().getInfo()):\n",
        "    image = ee.Image(ndvi_images.get(i))\n",
        "    date = ee.Date(image.get('system:time_start')).format('YYYY-MM-dd').getInfo()\n",
        "    ndvi = image.select('nd').reduceRegion(reducer=ee.Reducer.mean(),\n",
        "                                           geometry=geometry_buff,\n",
        "                                           scale=10).get('nd').getInfo()\n",
        "    dates.append(date)\n",
        "    ndvi_values.append(ndvi)\n",
        "\n",
        "# Create a chart using the matplotlib library\n",
        "import matplotlib.pyplot as plt\n",
        "\n",
        "plt.figure(figsize=(12, 6))\n",
        "plt.plot(dates, ndvi_values, marker='o', linestyle='-')\n",
        "plt.title('NDVI Annual Evolution')\n",
        "plt.xlabel('Date')\n",
        "plt.ylabel('NDVI')\n",
        "plt.grid(True)\n",
        "plt.xticks(rotation=45)\n",
        "plt.tight_layout()\n",
        "\n",
        "# Show the chart\n",
        "plt.show()\n"
      ],
      "metadata": {
        "colab": {
          "base_uri": "https://localhost:8080/",
          "height": 607
        },
        "id": "PMr4E7OghTks",
        "outputId": "6e1d3cee-921e-4553-8fdd-9d16c7bcb00b"
      },
      "execution_count": 48,
      "outputs": [
        {
          "output_type": "display_data",
          "data": {
            "text/plain": [
              "<Figure size 1200x600 with 1 Axes>"
            ],
            "image/png": "[encoded data removed]"
          },
          "metadata": {}
        }
      ]
    },
    {
      "cell_type": "code",
      "source": [
        "\n",
        "# Apply a negative buffer to the plot geometry\n",
        "geometry_buff = geometry.buffer(-20)\n",
        "# Load the Sentinel-2 image collection (assuming 'S2' has already been defined)\n",
        "# Load the Sentinel-2 image collection\n",
        "S2 = (ee.ImageCollection('COPERNICUS/S2_SR')\n",
        "      .filterMetadata('CLOUDY_PIXEL_PERCENTAGE', 'less_than', 20)\n",
        "      .filterDate('2023-01-01', '2023-09-01')\n",
        "      .filterBounds(geometry_buff))\n",
        "\n",
        "# Function to keep only vegetation and soil pixels (assuming 'keepFieldPixel' function is defined)\n",
        "S2 = S2.map(keepFieldPixel)\n",
        "\n",
        "# Function to mask clouds in Sentinel-2 imagery (assuming 'maskS2clouds' function is defined)\n",
        "S2 = S2.map(maskS2clouds)\n",
        "\n",
        "# Function to compute NDVI and add it as a new band (assuming 'addNDVI' function is defined)\n",
        "S2 = S2.map(addNDVI)\n",
        "\n",
        "# Extract NDVI band from S2 collection\n",
        "NDVI = S2.select(['nd'])\n",
        "\n",
        "# Extract median NDVI value for each pixel\n",
        "NDVImed = NDVI.median()\n",
        "\n",
        "# Define a color palette for NDVI visualization\n",
        "palette = ['#d73027', '#f46d43', '#fdae61', '#fee08b', '#d9ef8b', '#a6d96a']\n",
        "\n",
        "# Display NDVI results on the map\n",
        "Map = geemap.Map()\n",
        "Map.centerObject(geometry_buff, 10)\n",
        "Map.addLayer(NDVImed.clip(geometry_buff), {'min': 0.2, 'max': 0.4, 'palette': palette}, 'NDVI')\n",
        "Map"
      ],
      "metadata": {
        "colab": {
          "base_uri": "https://localhost:8080/",
          "height": 621,
          "referenced_widgets": [
            "f3601cad1ba74b1796fc2e80421d7b33",
            "ff49aeaf257a4131b89e9db9e049ccd2",
            "843298d9c825437f9bcf7c6d46bf4748",
            "4d57dd14893d4a549d9c472894842872",
            "9aea7980ae5d48ddbb6c00c48f85a54c",
            "4b3e0c1d47b24baba359191a58cb4bb5",
            "ecc1e2ae1055487494c62b02193d382b",
            "2e2ce0288b3744a787248e8c554354fd",
            "0b880d5a50b4432ca7e39cbce3be2b53",
            "c6ba93a2b3cf4b61a2f01f6ac5c878c2",
            "34cbe3efe89548c2ad715eb09fad2e7f",
            "a6aa7a9e7e6c43598de83271d93c3237",
            "d3a61d356c0e47d7af84a87014c37fed",
            "686ccadac2f045b0bba724ff33e5b62b",
            "07ae18b4feee4a49af05b9870ffd1215",
            "13519209af134b40af229007ba723132",
            "2fba90193f44499b88e3de4aba074b52",
            "b9e65435c1a44b4eb3c245db9c4aa32f",
            "4ec35045bcaf4ec7ae84dac7d6d32b00",
            "6a74c70cc4fb4cf98197cc6c76b59dc0",
            "f8fafe8d47d74f42a88f79e9ae12a302",
            "49c47ceb53e44312a326a31d6e91e8d0",
            "899166db9a6345fe8d2a4fc84937575e",
            "99eb2c5208b84c5a8c293d050ec26063",
            "cf22123d7791490aafd0071775ca8bff",
            "331b5cdf02ec401092b5887fd2bce3ac"
          ]
        },
        "id": "YbY3hR_chTpF",
        "outputId": "ef01d980-5c08-4356-ab4f-39650a952b50"
      },
      "execution_count": 45,
      "outputs": [
        {
          "output_type": "display_data",
          "data": {
            "text/plain": [
              "Map(center=[41.527614468447446, -79.38587981711616], controls=(WidgetControl(options=['position', 'transparent…"
            ],
            "application/vnd.jupyter.widget-view+json": {
              "version_major": 2,
              "version_minor": 0,
              "model_id": "f3601cad1ba74b1796fc2e80421d7b33"
            }
          },
          "metadata": {
            "application/vnd.jupyter.widget-view+json": {
              "colab": {
                "custom_widget_manager": {
                  "url": "https://ssl.gstatic.com/colaboratory-static/widgets/colab-cdn-widget-manager/b3e629b1971e1542/manager.min.js"
                }
              }
            }
          }
        }
      ]
    }
  ]
}